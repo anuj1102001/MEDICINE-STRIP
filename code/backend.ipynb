{
 "cells": [
  {
   "cell_type": "code",
   "execution_count": 2,
   "metadata": {},
   "outputs": [
    {
     "name": "stderr",
     "output_type": "stream",
     "text": [
      "2023-12-06 06:39:24.901082: I tensorflow/core/platform/cpu_feature_guard.cc:182] This TensorFlow binary is optimized to use available CPU instructions in performance-critical operations.\n",
      "To enable the following instructions: AVX2 FMA, in other operations, rebuild TensorFlow with the appropriate compiler flags.\n"
     ]
    }
   ],
   "source": [
    "import tensorflow as tf\n",
    "from tensorflow.keras.preprocessing.image import ImageDataGenerator"
   ]
  },
  {
   "cell_type": "code",
   "execution_count": 3,
   "metadata": {},
   "outputs": [],
   "source": [
    "train_dir = '/Users/erinarifa/Desktop/project/train'\n",
    "validation_dir = '/Users/erinarifa/Desktop/project/test'"
   ]
  },
  {
   "cell_type": "code",
   "execution_count": 4,
   "metadata": {},
   "outputs": [
    {
     "name": "stdout",
     "output_type": "stream",
     "text": [
      "Found 1141 images belonging to 17 classes.\n",
      "Found 457 images belonging to 17 classes.\n"
     ]
    }
   ],
   "source": [
    "train_datagen = ImageDataGenerator(\n",
    "    rescale=1./255,\n",
    "    shear_range=0.2,\n",
    "    zoom_range=0.2,\n",
    "    horizontal_flip=True\n",
    ")\n",
    "\n",
    "validation_datagen = ImageDataGenerator(rescale=1./255)\n",
    "\n",
    "# Batch size\n",
    "batch_size = 32\n",
    "\n",
    "# Load and preprocess the training data\n",
    "train_generator = train_datagen.flow_from_directory(\n",
    "    train_dir,\n",
    "    target_size=(224, 224),  # Adjust the target size according to your model requirements\n",
    "    batch_size=batch_size,\n",
    "    class_mode='categorical'\n",
    ")\n",
    "\n",
    "# Load and preprocess the validation data\n",
    "validation_generator = validation_datagen.flow_from_directory(\n",
    "    validation_dir,\n",
    "    target_size=(224, 224),\n",
    "    batch_size=batch_size,\n",
    "    class_mode='categorical'\n",
    ")"
   ]
  },
  {
   "cell_type": "code",
   "execution_count": 5,
   "metadata": {},
   "outputs": [],
   "source": [
    "from tensorflow.keras.models import Sequential\n",
    "from tensorflow.keras.layers import Conv2D, MaxPooling2D, Flatten, Dense\n",
    "\n",
    "# Build the CNN model\n",
    "model = Sequential()\n",
    "\n",
    "model.add(Conv2D(32, (3, 3), input_shape=(224, 224, 3), activation='relu'))\n",
    "model.add(MaxPooling2D(pool_size=(2, 2)))\n",
    "\n",
    "model.add(Conv2D(64, (3, 3), activation='relu'))\n",
    "model.add(MaxPooling2D(pool_size=(2, 2)))\n",
    "\n",
    "model.add(Conv2D(128, (3, 3), activation='relu'))\n",
    "model.add(MaxPooling2D(pool_size=(2, 2)))\n",
    "\n",
    "model.add(Flatten())\n",
    "model.add(Dense(128, activation='relu'))\n",
    "model.add(Dense(17, activation='softmax'))  # num_classes is the number of classes in your dataset\n",
    "\n",
    "# Compile the model\n",
    "model.compile(optimizer='adam', loss='categorical_crossentropy', metrics=['accuracy'])\n"
   ]
  },
  {
   "cell_type": "code",
   "execution_count": 6,
   "metadata": {},
   "outputs": [
    {
     "name": "stdout",
     "output_type": "stream",
     "text": [
      "Epoch 1/10\n",
      "35/35 [==============================] - 310s 9s/step - loss: 2.7259 - accuracy: 0.1524 - val_loss: 2.2295 - val_accuracy: 0.2790\n",
      "Epoch 2/10\n",
      "35/35 [==============================] - 304s 9s/step - loss: 1.9220 - accuracy: 0.3848 - val_loss: 1.9582 - val_accuracy: 0.4062\n",
      "Epoch 3/10\n",
      "35/35 [==============================] - 404s 12s/step - loss: 1.3712 - accuracy: 0.5789 - val_loss: 1.5778 - val_accuracy: 0.5357\n",
      "Epoch 4/10\n",
      "35/35 [==============================] - 651s 19s/step - loss: 0.8780 - accuracy: 0.7115 - val_loss: 1.3281 - val_accuracy: 0.6027\n",
      "Epoch 5/10\n",
      "35/35 [==============================] - 304s 9s/step - loss: 0.6903 - accuracy: 0.7791 - val_loss: 1.0275 - val_accuracy: 0.6942\n",
      "Epoch 6/10\n",
      "35/35 [==============================] - 301s 9s/step - loss: 0.4506 - accuracy: 0.8539 - val_loss: 1.7949 - val_accuracy: 0.5737\n",
      "Epoch 7/10\n",
      "35/35 [==============================] - 311s 9s/step - loss: 0.4370 - accuracy: 0.8629 - val_loss: 1.3685 - val_accuracy: 0.6763\n",
      "Epoch 8/10\n",
      "35/35 [==============================] - 528s 15s/step - loss: 0.2422 - accuracy: 0.9197 - val_loss: 1.3743 - val_accuracy: 0.6741\n",
      "Epoch 9/10\n",
      "35/35 [==============================] - 242s 7s/step - loss: 0.2231 - accuracy: 0.9179 - val_loss: 1.5886 - val_accuracy: 0.6362\n",
      "Epoch 10/10\n",
      "35/35 [==============================] - 635s 19s/step - loss: 0.2311 - accuracy: 0.9288 - val_loss: 1.3615 - val_accuracy: 0.7232\n"
     ]
    },
    {
     "data": {
      "text/plain": [
       "<keras.src.callbacks.History at 0x14e956dd0>"
      ]
     },
     "execution_count": 6,
     "metadata": {},
     "output_type": "execute_result"
    }
   ],
   "source": [
    "model.fit(\n",
    "    train_generator,\n",
    "    steps_per_epoch=train_generator.samples // batch_size,\n",
    "    epochs=10,  # Adjust the number of epochs as needed\n",
    "    validation_data=validation_generator,\n",
    "    validation_steps=validation_generator.samples // batch_size\n",
    ")"
   ]
  },
  {
   "cell_type": "code",
   "execution_count": 8,
   "metadata": {},
   "outputs": [],
   "source": [
    "# Save the model\n",
    "model.save('Medicine_recognition_model.keras')\n",
    "\n",
    "# Load the model\n",
    "loaded_model = tf.keras.models.load_model('Medicine_recognition_model.keras')"
   ]
  },
  {
   "cell_type": "code",
   "execution_count": 27,
   "metadata": {},
   "outputs": [],
   "source": [
    "from tensorflow.keras.preprocessing import image\n",
    "import numpy as np\n",
    "\n",
    "# Replace 'path_to_your_image.jpg' with the actual path to your image\n",
    "image_path = '/Users/erinarifa/Desktop/sample medicine/20231124_195254.jpg'\n",
    "\n",
    "# Load and preprocess the image\n",
    "img = image.load_img(image_path, target_size=(224, 224))\n",
    "img_array = image.img_to_array(img)\n",
    "img_array = np.expand_dims(img_array, axis=0)\n",
    "img_array /= 255.0  # Normalize pixel values\n"
   ]
  },
  {
   "cell_type": "code",
   "execution_count": 28,
   "metadata": {},
   "outputs": [
    {
     "name": "stdout",
     "output_type": "stream",
     "text": [
      "1/1 [==============================] - 0s 119ms/step\n",
      "Medicine name: N T GRAIN\n"
     ]
    }
   ],
   "source": [
    "# Make predictions\n",
    "predictions = loaded_model.predict(img_array)\n",
    "\n",
    "# Get the class with the highest probability\n",
    "predicted_class_index = np.argmax(predictions[0])\n",
    "\n",
    "# Assuming you have a list of class labels\n",
    "class_labels = [ 'ALMOX-500' , 'B-COLEX' , 'Dolo-650' , 'ERICIP 250-B' , 'Microflam P' , 'Movexx SP' , 'Moxyrin CV' , 'N T GRAIN' , 'Nicip Plus' , 'Nimupain' , 'Okacet' , 'OMEE' , 'OMESIL-D' , 'RABIWOK DSR' , 'RANTAC 150' , 'Vodacof' , 'Zeroder-MR' ]\n",
    "\n",
    "# Get the predicted class label\n",
    "predicted_class_label = class_labels[predicted_class_index]\n",
    "\n",
    "print(f\"Medicine name: {predicted_class_label}\")"
   ]
  }
 ],
 "metadata": {
  "kernelspec": {
   "display_name": "base",
   "language": "python",
   "name": "python3"
  },
  "language_info": {
   "codemirror_mode": {
    "name": "ipython",
    "version": 3
   },
   "file_extension": ".py",
   "mimetype": "text/x-python",
   "name": "python",
   "nbconvert_exporter": "python",
   "pygments_lexer": "ipython3",
   "version": "3.11.4"
  }
 },
 "nbformat": 4,
 "nbformat_minor": 2
}
